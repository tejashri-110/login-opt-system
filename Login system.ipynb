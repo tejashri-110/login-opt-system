{
 "cells": [
  {
   "cell_type": "code",
   "execution_count": null,
   "metadata": {},
   "outputs": [],
   "source": [
    "pip install firebase_admin\n",
    "pip install firebase\n",
    "pip install requests"
   ]
  },
  {
   "cell_type": "code",
   "execution_count": null,
   "metadata": {},
   "outputs": [],
   "source": [
    "from firebase import firebase\n",
    "from firebase_admin import credentials, initialize_app, storage, firestore\n",
    "import requests\n",
    "import math, random\n",
    "cred = credentials.Certificate(r\"serviceAccountKey.json\")\n",
    "initialize_app(cred, {'storageBucket': 'stock-data-fc41e.appspot.com'})\n",
    "db = firestore.client()"
   ]
  },
  {
   "cell_type": "code",
   "execution_count": null,
   "metadata": {},
   "outputs": [],
   "source": [
    "#SIGN-UP FORM(OPT,Storage in firestore)\n",
    "def generateOTP(phone_number) :\n",
    "    digits = \"0123456789\"\n",
    "    OTP = \"\"\n",
    "    \n",
    "    for i in range(4) :\n",
    "        OTP += digits[math.floor(random.random() * 10)]\n",
    "    send_opt(phone_number,OTP)\n",
    "    return OTP\n",
    "\n",
    "\n",
    "def send_opt(phone_no,message):\n",
    "    url = \"https://www.fast2sms.com/dev/bulkV2\"\n",
    "    \n",
    "    payload = \"message=\"+message+\"&language=english&route=q&numbers=\"+phone_no\n",
    "    headers = {\n",
    "        'authorization': \"EFRGf5sXOHZWP0TSuDbe9zCg2U3x8ajqcvVnQ6tkoBINYi1Mw4LpJC7bWNVo5U2szxZBmnESRcygIOhr\",\n",
    "        'Content-Type': \"application/x-www-form-urlencoded\",\n",
    "        'Cache-Control': \"no-cache\",\n",
    "        }\n",
    "\n",
    "    response = requests.request(\"POST\", url, data=payload, headers=headers)\n",
    "\n",
    "    print(response.text)\n",
    "\n",
    "\n",
    "username = input(\"Enter username:\")\n",
    "print(\"Username is: \" + username)\n",
    "password=input(\"Enter password:\")\n",
    "print(\"Password is:\"+ password)\n",
    "phone_number=input(\"Enter phone number:\")\n",
    "print(\"Phone number is:\"+phone_number)\n",
    "    \n",
    "doc_ref = db.collection(u'users').document(username)\n",
    "doc_ref.set({\n",
    "    u'userid': username,\n",
    "    u'password': password,\n",
    "    u'phone_number':phone_number,\n",
    "    u'OPT':generateOTP(phone_number)\n",
    "}, merge=True)"
   ]
  },
  {
   "cell_type": "code",
   "execution_count": null,
   "metadata": {
    "scrolled": false
   },
   "outputs": [],
   "source": [
    "#verifying credentials(LOGIN)\n",
    "\n",
    "for x in range(3):\n",
    "        \n",
    "    username1 =input(\"Enter username:\")\n",
    "    password1 = input(\"Enter Password:\")\n",
    "    \n",
    "    doc_ref = db.collection(u'users').document(username1)\n",
    "\n",
    "    doc = doc_ref.get()\n",
    "    user=doc.get(\"userid\")\n",
    "    password=doc.get(\"password\")\n",
    "\n",
    "    if(user==username1)and(password==password1):\n",
    "        print(\"Logined in\")\n",
    "        break\n",
    "    elif(user!=username1):\n",
    "        if doc.exists:\n",
    "            print(\"User exsist\")\n",
    "        else:\n",
    "            print(\"User not found\")\n",
    "    else:\n",
    "        if(x==2):\n",
    "            print(\"You can't access for next 24 hours.\")\n",
    "        else:\n",
    "            print(\"Wrong password!!\")\n",
    "        "
   ]
  },
  {
   "cell_type": "code",
   "execution_count": null,
   "metadata": {},
   "outputs": [],
   "source": []
  },
  {
   "cell_type": "code",
   "execution_count": null,
   "metadata": {},
   "outputs": [],
   "source": []
  },
  {
   "cell_type": "code",
   "execution_count": null,
   "metadata": {},
   "outputs": [],
   "source": []
  },
  {
   "cell_type": "code",
   "execution_count": null,
   "metadata": {},
   "outputs": [],
   "source": []
  },
  {
   "cell_type": "code",
   "execution_count": null,
   "metadata": {},
   "outputs": [],
   "source": []
  },
  {
   "cell_type": "code",
   "execution_count": null,
   "metadata": {},
   "outputs": [],
   "source": []
  },
  {
   "cell_type": "code",
   "execution_count": null,
   "metadata": {},
   "outputs": [],
   "source": [
    "def generateOTP() :\n",
    "    digits = \"0123456789\"\n",
    "    OTP = \"\"\n",
    "    \n",
    "    for i in range(4) :\n",
    "        OTP += digits[math.floor(random.random() * 10)]\n",
    "    return OTP\n",
    "\n",
    "\n",
    "def send_opt(phone_no,message):\n",
    "    url = \"https://www.fast2sms.com/dev/bulkV2\"\n",
    "    \n",
    "    payload = \"message=\"+message+\"&language=english&route=q&numbers=\"+phone_no\n",
    "    headers = {\n",
    "        'authorization': \"EFRGf5sXOHZWP0TSuDbe9zCg2U3x8ajqcvVnQ6tkoBINYi1Mw4LpJC7bWNVo5U2szxZBmnESRcygIOhr\",\n",
    "        'Content-Type': \"application/x-www-form-urlencoded\",\n",
    "        'Cache-Control': \"no-cache\",\n",
    "        }\n",
    "\n",
    "    response = requests.request(\"POST\", url, data=payload, headers=headers)\n",
    "\n",
    "    print(response.text)\n",
    "\n",
    "doc_ref = db.collection(u'users').document(username)\n",
    "\n",
    "doc = doc_ref.get()\n",
    "phone_number=doc.get(\"phone_number\")\n",
    "    \n",
    "get_opt=generateOTP()   \n",
    "send_opt(phone_number,get_opt)\n",
    "\n",
    "doc_ref = db.collection(u'users').document(username)\n",
    "doc_ref.set({\n",
    "    u'OTP': get_opt,\n",
    "}, merge=True)"
   ]
  },
  {
   "cell_type": "code",
   "execution_count": null,
   "metadata": {},
   "outputs": [],
   "source": [
    "#retrieveing data from firestore using key value\n",
    "doc_ref = db.collection(u'users').document(username)\n",
    "\n",
    "doc = doc_ref.get()\n",
    "user=doc.get(\"userid\")\n",
    "password=doc.get(\"password\")\n",
    "\n",
    "print(user,password)"
   ]
  },
  {
   "cell_type": "code",
   "execution_count": null,
   "metadata": {},
   "outputs": [],
   "source": [
    "def send_opt(phone_no,message):\n",
    "    url = \"https://www.fast2sms.com/dev/bulkV2\"\n",
    "    \n",
    "    payload = \"message=\"+message+\"&language=english&route=q&numbers=\"+phone_no\n",
    "    headers = {\n",
    "        'authorization': \"EFRGf5sXOHZWP0TSuDbe9zCg2U3x8ajqcvVnQ6tkoBINYi1Mw4LpJC7bWNVo5U2szxZBmnESRcygIOhr\",\n",
    "        'Content-Type': \"application/x-www-form-urlencoded\",\n",
    "        'Cache-Control': \"no-cache\",\n",
    "        }\n",
    "\n",
    "    response = requests.request(\"POST\", url, data=payload, headers=headers)\n",
    "\n",
    "    print(response.text)\n",
    "send_opt('9372961568',\"Heyyaaa!!!!\")"
   ]
  },
  {
   "cell_type": "code",
   "execution_count": null,
   "metadata": {},
   "outputs": [],
   "source": [
    "#Attempts checking\n",
    "for x in range(3):\n",
    "    pd=input(\"Enter password:\")\n",
    "    if(pd==password):\n",
    "        print(\"Logined in\")\n",
    "        break\n",
    "    else:\n",
    "        if(x==2):\n",
    "            print(\"You can't access for next 24 hours.\")\n",
    "        else:\n",
    "            print(\"Wrong password!!\")\n",
    "        "
   ]
  },
  {
   "cell_type": "code",
   "execution_count": null,
   "metadata": {},
   "outputs": [],
   "source": [
    "username = input(\"Enter username:\")\n",
    "print(\"Username is: \" + username)\n",
    "password=input(\"Enter password:\")\n",
    "print(\"Passowrd is\"+ password)\n",
    "\n",
    "class NewUser(object):\n",
    "    def __init__(username,password):\n",
    "        self.username = username\n",
    "        self.password = password\n",
    "\n",
    "    @staticmethod\n",
    "#     def from_dict(source):\n",
    "#         # ...\n",
    "\n",
    "#     def to_dict(self):\n",
    "#         # ...\n",
    "\n",
    "    def __repr__(self):\n",
    "        return(\n",
    "            f'NewUser(\\\n",
    "                username={self.username}, \\\n",
    "                password={self.password}, \\\n",
    "            )'\n",
    "        )\n",
    "    db.collection(u'User').document(u'newuser-id').set(\n",
    "    {\n",
    "    u'userid': username,\n",
    "    u'password': password,\n",
    "})"
   ]
  }
 ],
 "metadata": {
  "interpreter": {
   "hash": "c7c75a453e2e2b268660ff22ff2dcf452fe0f87f0ffc2435e75897d2276ff95b"
  },
  "kernelspec": {
   "display_name": "Python 3",
   "language": "python",
   "name": "python3"
  },
  "language_info": {
   "codemirror_mode": {
    "name": "ipython",
    "version": 3
   },
   "file_extension": ".py",
   "mimetype": "text/x-python",
   "name": "python",
   "nbconvert_exporter": "python",
   "pygments_lexer": "ipython3",
   "version": "3.8.3"
  }
 },
 "nbformat": 4,
 "nbformat_minor": 4
}
